{
 "cells": [
  {
   "cell_type": "markdown",
   "id": "4ae8fcb4",
   "metadata": {},
   "source": [
    "## Задание 1.\n",
    "Выберите датасет, который имеет отношение к вашей области интересов или исследований. Датасет должен содержать неструктурированные данные, требующие разметки для решения конкретной задачи, например, анализа настроений или распознавания именованных сущностей. https://www.kaggle.com/datasets/beridzeg45/guardian-environment-related-news?resource=download"
   ]
  },
  {
   "cell_type": "code",
   "execution_count": 2,
   "id": "7875ac47",
   "metadata": {},
   "outputs": [],
   "source": [
    "import pandas as pd\n",
    "import numpy as np"
   ]
  },
  {
   "cell_type": "code",
   "execution_count": 95,
   "id": "57926218",
   "metadata": {},
   "outputs": [],
   "source": [
    "df = pd.read_csv('guardian_environment_news.csv')"
   ]
  },
  {
   "cell_type": "code",
   "execution_count": 4,
   "id": "cc5a14a7",
   "metadata": {},
   "outputs": [
    {
     "data": {
      "text/html": [
       "<div>\n",
       "<style scoped>\n",
       "    .dataframe tbody tr th:only-of-type {\n",
       "        vertical-align: middle;\n",
       "    }\n",
       "\n",
       "    .dataframe tbody tr th {\n",
       "        vertical-align: top;\n",
       "    }\n",
       "\n",
       "    .dataframe thead th {\n",
       "        text-align: right;\n",
       "    }\n",
       "</style>\n",
       "<table border=\"1\" class=\"dataframe\">\n",
       "  <thead>\n",
       "    <tr style=\"text-align: right;\">\n",
       "      <th></th>\n",
       "      <th>Title</th>\n",
       "      <th>Intro Text</th>\n",
       "      <th>Authors</th>\n",
       "      <th>Article Text</th>\n",
       "      <th>Date Published</th>\n",
       "    </tr>\n",
       "  </thead>\n",
       "  <tbody>\n",
       "    <tr>\n",
       "      <th>0</th>\n",
       "      <td>Liz Truss ‘will approve more oil drilling if ...</td>\n",
       "      <td>Tory leadership candidate criticised by campai...</td>\n",
       "      <td>['Rob Davies', '@ByRobDavies']</td>\n",
       "      <td>Liz Truss will sign off on a push for more oil...</td>\n",
       "      <td>2022-08-30</td>\n",
       "    </tr>\n",
       "    <tr>\n",
       "      <th>1</th>\n",
       "      <td>Renewed Highland golf course plan has environm...</td>\n",
       "      <td>Scottish government rejected a new links at Co...</td>\n",
       "      <td>['Ewan Murray', '@mrewanmurray']</td>\n",
       "      <td>It is an area so tranquil that the notion of b...</td>\n",
       "      <td>2021-03-22</td>\n",
       "    </tr>\n",
       "    <tr>\n",
       "      <th>2</th>\n",
       "      <td>Visiting green spaces deters mental health dr...</td>\n",
       "      <td>Positive effects were stronger among those rep...</td>\n",
       "      <td>['Damien Gayle', '@damiengayle']</td>\n",
       "      <td>Visits to parks, community gardens and other u...</td>\n",
       "      <td>2023-01-17</td>\n",
       "    </tr>\n",
       "    <tr>\n",
       "      <th>3</th>\n",
       "      <td>Bought too much red cabbage? Turn it into a fe...</td>\n",
       "      <td>This fantastic vegan centrepiece makes full us...</td>\n",
       "      <td>['Tom Hunt']</td>\n",
       "      <td>I devised today’s nut roast for Oddbox, a veg ...</td>\n",
       "      <td>2023-12-22</td>\n",
       "    </tr>\n",
       "    <tr>\n",
       "      <th>4</th>\n",
       "      <td>‘This year has been very good’: readers’ UK bu...</td>\n",
       "      <td>Readers share their favourite sightings over t...</td>\n",
       "      <td>['Guardian readers']</td>\n",
       "      <td>‘Constant companions to our gardening’A peacoc...</td>\n",
       "      <td>2023-12-19</td>\n",
       "    </tr>\n",
       "  </tbody>\n",
       "</table>\n",
       "</div>"
      ],
      "text/plain": [
       "                                               Title  \\\n",
       "0   Liz Truss ‘will approve more oil drilling if ...   \n",
       "1  Renewed Highland golf course plan has environm...   \n",
       "2   Visiting green spaces deters mental health dr...   \n",
       "3  Bought too much red cabbage? Turn it into a fe...   \n",
       "4  ‘This year has been very good’: readers’ UK bu...   \n",
       "\n",
       "                                          Intro Text  \\\n",
       "0  Tory leadership candidate criticised by campai...   \n",
       "1  Scottish government rejected a new links at Co...   \n",
       "2  Positive effects were stronger among those rep...   \n",
       "3  This fantastic vegan centrepiece makes full us...   \n",
       "4  Readers share their favourite sightings over t...   \n",
       "\n",
       "                            Authors  \\\n",
       "0    ['Rob Davies', '@ByRobDavies']   \n",
       "1  ['Ewan Murray', '@mrewanmurray']   \n",
       "2  ['Damien Gayle', '@damiengayle']   \n",
       "3                      ['Tom Hunt']   \n",
       "4              ['Guardian readers']   \n",
       "\n",
       "                                        Article Text Date Published  \n",
       "0  Liz Truss will sign off on a push for more oil...     2022-08-30  \n",
       "1  It is an area so tranquil that the notion of b...     2021-03-22  \n",
       "2  Visits to parks, community gardens and other u...     2023-01-17  \n",
       "3  I devised today’s nut roast for Oddbox, a veg ...     2023-12-22  \n",
       "4  ‘Constant companions to our gardening’A peacoc...     2023-12-19  "
      ]
     },
     "execution_count": 4,
     "metadata": {},
     "output_type": "execute_result"
    }
   ],
   "source": [
    "df.head()"
   ]
  },
  {
   "cell_type": "markdown",
   "id": "d088714f",
   "metadata": {},
   "source": [
    "## Задание 2.\n",
    "Выполните разметку на основе правил (rule-based labeling) на подмножестве выбранного датасета. Разработайте и реализуйте набор правил или условий, которые позволят автоматически присваивать метки данным на основе определенных шаблонов или критериев."
   ]
  },
  {
   "cell_type": "code",
   "execution_count": 5,
   "id": "0a5533ca",
   "metadata": {},
   "outputs": [],
   "source": [
    "optimistic = ['optimistic', 'bright', 'great', 'manageble']\n",
    "pessimistic = ['drought', 'famine', 'desert', 'danger', ]"
   ]
  },
  {
   "cell_type": "code",
   "execution_count": 6,
   "id": "ad3dc277",
   "metadata": {},
   "outputs": [
    {
     "name": "stderr",
     "output_type": "stream",
     "text": [
      "[nltk_data] Downloading package punkt to\n",
      "[nltk_data]     C:\\Users\\Pushkarev\\AppData\\Roaming\\nltk_data...\n",
      "[nltk_data]   Unzipping tokenizers\\punkt.zip.\n"
     ]
    },
    {
     "data": {
      "text/plain": [
       "True"
      ]
     },
     "execution_count": 6,
     "metadata": {},
     "output_type": "execute_result"
    }
   ],
   "source": [
    "import nltk\n",
    "nltk.download('punkt')"
   ]
  },
  {
   "cell_type": "code",
   "execution_count": 7,
   "id": "d8c6c7d0",
   "metadata": {},
   "outputs": [],
   "source": [
    "def get_article_mood(text):\n",
    "    words = nltk.word_tokenize(text.lower())\n",
    "    optimistic = sum([1 for word in words if word in positive_words])\n",
    "    pessimistic = sum([1 for word in words if word in negative_words])\n",
    "    if optimistic > pessimistic:\n",
    "        return 'positive'\n",
    "    elif pessimistic > optimistic:\n",
    "        return 'negative'\n",
    "    else:\n",
    "        return 'neutral'"
   ]
  },
  {
   "cell_type": "markdown",
   "id": "4b1ea17e",
   "metadata": {},
   "source": [
    "Отделим 2 части от файла для ручной и автоматической разметки:"
   ]
  },
  {
   "cell_type": "code",
   "execution_count": 47,
   "id": "9893d763",
   "metadata": {},
   "outputs": [],
   "source": [
    "df_manual = df.iloc[:20]\n",
    "df_manual.to_csv('first_20_rows.csv', index=False)\n",
    "df_rulebased = df.iloc[21:1000]\n",
    "df_rulebased.to_csv('rows_21_1000.csv', index=False)"
   ]
  },
  {
   "cell_type": "code",
   "execution_count": 12,
   "id": "fc51a971",
   "metadata": {},
   "outputs": [
    {
     "name": "stdout",
     "output_type": "stream",
     "text": [
      "Collecting textblob\n",
      "  Downloading textblob-0.18.0.post0-py3-none-any.whl (626 kB)\n",
      "     -------------------------------------- 626.3/626.3 kB 1.9 MB/s eta 0:00:00\n",
      "Collecting nltk>=3.8\n",
      "  Downloading nltk-3.8.1-py3-none-any.whl (1.5 MB)\n",
      "     ---------------------------------------- 1.5/1.5 MB 2.3 MB/s eta 0:00:00\n",
      "Requirement already satisfied: tqdm in c:\\users\\Pushkarev\\anaconda3\\lib\\site-packages (from nltk>=3.8->textblob) (4.64.1)\n",
      "Requirement already satisfied: regex>=2021.8.3 in c:\\users\\Pushkarev\\anaconda3\\lib\\site-packages (from nltk>=3.8->textblob) (2022.7.9)\n",
      "Requirement already satisfied: click in c:\\users\\Pushkarev\\anaconda3\\lib\\site-packages (from nltk>=3.8->textblob) (8.0.4)\n",
      "Requirement already satisfied: joblib in c:\\users\\Pushkarev\\anaconda3\\lib\\site-packages (from nltk>=3.8->textblob) (1.1.0)\n",
      "Requirement already satisfied: colorama in c:\\users\\Pushkarev\\anaconda3\\lib\\site-packages (from click->nltk>=3.8->textblob) (0.4.5)\n",
      "Installing collected packages: nltk, textblob\n",
      "  Attempting uninstall: nltk\n",
      "    Found existing installation: nltk 3.7\n",
      "    Uninstalling nltk-3.7:\n",
      "      Successfully uninstalled nltk-3.7\n",
      "Successfully installed nltk-3.8.1 textblob-0.18.0.post0\n",
      "Note: you may need to restart the kernel to use updated packages.\n"
     ]
    }
   ],
   "source": [
    "pip install textblob"
   ]
  },
  {
   "cell_type": "code",
   "execution_count": 13,
   "id": "fa2ad9d3",
   "metadata": {},
   "outputs": [],
   "source": [
    "from textblob import TextBlob"
   ]
  },
  {
   "cell_type": "code",
   "execution_count": 19,
   "id": "25fe8886",
   "metadata": {},
   "outputs": [],
   "source": [
    "def get_article_mood(article):\n",
    "    blob = TextBlob(article)\n",
    "    return blob.sentiment.polarity"
   ]
  },
  {
   "cell_type": "code",
   "execution_count": 48,
   "id": "f74f67a4",
   "metadata": {},
   "outputs": [
    {
     "name": "stderr",
     "output_type": "stream",
     "text": [
      "C:\\Users\\Pushkarev\\AppData\\Local\\Temp\\ipykernel_7000\\388915912.py:1: SettingWithCopyWarning: \n",
      "A value is trying to be set on a copy of a slice from a DataFrame.\n",
      "Try using .loc[row_indexer,col_indexer] = value instead\n",
      "\n",
      "See the caveats in the documentation: https://pandas.pydata.org/pandas-docs/stable/user_guide/indexing.html#returning-a-view-versus-a-copy\n",
      "  df_rulebased['Article Text'] = df_rulebased['Article Text'].astype(str)\n"
     ]
    }
   ],
   "source": [
    "df_rulebased['Article Text'] = df_rulebased['Article Text'].astype(str)"
   ]
  },
  {
   "cell_type": "code",
   "execution_count": 49,
   "id": "8b7c4ec7",
   "metadata": {},
   "outputs": [
    {
     "name": "stderr",
     "output_type": "stream",
     "text": [
      "C:\\Users\\Pushkarev\\AppData\\Local\\Temp\\ipykernel_7000\\2527701878.py:1: SettingWithCopyWarning: \n",
      "A value is trying to be set on a copy of a slice from a DataFrame.\n",
      "Try using .loc[row_indexer,col_indexer] = value instead\n",
      "\n",
      "See the caveats in the documentation: https://pandas.pydata.org/pandas-docs/stable/user_guide/indexing.html#returning-a-view-versus-a-copy\n",
      "  df_rulebased['mood'] = df_rulebased['Article Text'].apply(get_article_mood)\n"
     ]
    }
   ],
   "source": [
    "df_rulebased['mood'] = df_rulebased['Article Text'].apply(get_article_mood)"
   ]
  },
  {
   "cell_type": "code",
   "execution_count": 50,
   "id": "0fed6c57",
   "metadata": {},
   "outputs": [
    {
     "data": {
      "text/html": [
       "<div>\n",
       "<style scoped>\n",
       "    .dataframe tbody tr th:only-of-type {\n",
       "        vertical-align: middle;\n",
       "    }\n",
       "\n",
       "    .dataframe tbody tr th {\n",
       "        vertical-align: top;\n",
       "    }\n",
       "\n",
       "    .dataframe thead th {\n",
       "        text-align: right;\n",
       "    }\n",
       "</style>\n",
       "<table border=\"1\" class=\"dataframe\">\n",
       "  <thead>\n",
       "    <tr style=\"text-align: right;\">\n",
       "      <th></th>\n",
       "      <th>Title</th>\n",
       "      <th>Intro Text</th>\n",
       "      <th>Authors</th>\n",
       "      <th>Article Text</th>\n",
       "      <th>Date Published</th>\n",
       "      <th>mood</th>\n",
       "    </tr>\n",
       "  </thead>\n",
       "  <tbody>\n",
       "    <tr>\n",
       "      <th>21</th>\n",
       "      <td>Are debt-for-nature swaps the way forward for ...</td>\n",
       "      <td>Agreements to reduce developing countries’ deb...</td>\n",
       "      <td>['The age of extinction is supported by', 'Abo...</td>\n",
       "      <td>After decades in the wilderness, and familiar ...</td>\n",
       "      <td>2023-06-21</td>\n",
       "      <td>0.115471</td>\n",
       "    </tr>\n",
       "    <tr>\n",
       "      <th>22</th>\n",
       "      <td>Climate protesters gather in person and onlin...</td>\n",
       "      <td>Campaigners target Standard Chartered, urging ...</td>\n",
       "      <td>['Robyn Vinter', '@robynvinter']</td>\n",
       "      <td>Climate protesters from as many as 60 countrie...</td>\n",
       "      <td>2018-03-09</td>\n",
       "      <td>0.061723</td>\n",
       "    </tr>\n",
       "    <tr>\n",
       "      <th>23</th>\n",
       "      <td>There's a simple way to make our cities green...</td>\n",
       "      <td>Architecture’s top prize has been awarded to a...</td>\n",
       "      <td>NaN</td>\n",
       "      <td>This week the highest honour in the architectu...</td>\n",
       "      <td>2018-07-18</td>\n",
       "      <td>0.095566</td>\n",
       "    </tr>\n",
       "    <tr>\n",
       "      <th>24</th>\n",
       "      <td>Can we enjoy fast fashion without destroying t...</td>\n",
       "      <td>The global fashion industry is in desperate ne...</td>\n",
       "      <td>['Lucy Siegle']</td>\n",
       "      <td>This piece first appeared in Down to Earth, th...</td>\n",
       "      <td>2022-02-25</td>\n",
       "      <td>0.100182</td>\n",
       "    </tr>\n",
       "    <tr>\n",
       "      <th>25</th>\n",
       "      <td>Anti-logging protest becomes Canada’s biggest...</td>\n",
       "      <td>At least 866 arrested since April, as police c...</td>\n",
       "      <td>['Supported by', 'About this content', 'Jen Os...</td>\n",
       "      <td>A string of protests against old-growth loggin...</td>\n",
       "      <td>2021-09-10</td>\n",
       "      <td>-0.065854</td>\n",
       "    </tr>\n",
       "  </tbody>\n",
       "</table>\n",
       "</div>"
      ],
      "text/plain": [
       "                                                Title  \\\n",
       "21  Are debt-for-nature swaps the way forward for ...   \n",
       "22   Climate protesters gather in person and onlin...   \n",
       "23   There's a simple way to make our cities green...   \n",
       "24  Can we enjoy fast fashion without destroying t...   \n",
       "25   Anti-logging protest becomes Canada’s biggest...   \n",
       "\n",
       "                                           Intro Text  \\\n",
       "21  Agreements to reduce developing countries’ deb...   \n",
       "22  Campaigners target Standard Chartered, urging ...   \n",
       "23  Architecture’s top prize has been awarded to a...   \n",
       "24  The global fashion industry is in desperate ne...   \n",
       "25  At least 866 arrested since April, as police c...   \n",
       "\n",
       "                                              Authors  \\\n",
       "21  ['The age of extinction is supported by', 'Abo...   \n",
       "22                   ['Robyn Vinter', '@robynvinter']   \n",
       "23                                                NaN   \n",
       "24                                    ['Lucy Siegle']   \n",
       "25  ['Supported by', 'About this content', 'Jen Os...   \n",
       "\n",
       "                                         Article Text Date Published      mood  \n",
       "21  After decades in the wilderness, and familiar ...     2023-06-21  0.115471  \n",
       "22  Climate protesters from as many as 60 countrie...     2018-03-09  0.061723  \n",
       "23  This week the highest honour in the architectu...     2018-07-18  0.095566  \n",
       "24  This piece first appeared in Down to Earth, th...     2022-02-25  0.100182  \n",
       "25  A string of protests against old-growth loggin...     2021-09-10 -0.065854  "
      ]
     },
     "execution_count": 50,
     "metadata": {},
     "output_type": "execute_result"
    }
   ],
   "source": [
    "df_rulebased.head()"
   ]
  },
  {
   "cell_type": "code",
   "execution_count": 51,
   "id": "84d771fc",
   "metadata": {},
   "outputs": [],
   "source": [
    "def get_evaluation(score):\n",
    "    if score > 0:\n",
    "        return 'positive'\n",
    "    elif score < 0:\n",
    "        return 'negative'\n",
    "    else:\n",
    "        return 'neutral'"
   ]
  },
  {
   "cell_type": "code",
   "execution_count": 52,
   "id": "e94ecbe2",
   "metadata": {},
   "outputs": [
    {
     "name": "stderr",
     "output_type": "stream",
     "text": [
      "C:\\Users\\Pushkarev\\AppData\\Local\\Temp\\ipykernel_7000\\2354370291.py:1: SettingWithCopyWarning: \n",
      "A value is trying to be set on a copy of a slice from a DataFrame.\n",
      "Try using .loc[row_indexer,col_indexer] = value instead\n",
      "\n",
      "See the caveats in the documentation: https://pandas.pydata.org/pandas-docs/stable/user_guide/indexing.html#returning-a-view-versus-a-copy\n",
      "  df_rulebased['sentiment'] = df_rulebased['mood'].apply(get_evaluation)\n"
     ]
    }
   ],
   "source": [
    "df_rulebased['sentiment'] = df_rulebased['mood'].apply(get_evaluation)"
   ]
  },
  {
   "cell_type": "code",
   "execution_count": 53,
   "id": "b0b43dd2",
   "metadata": {},
   "outputs": [
    {
     "data": {
      "text/html": [
       "<div>\n",
       "<style scoped>\n",
       "    .dataframe tbody tr th:only-of-type {\n",
       "        vertical-align: middle;\n",
       "    }\n",
       "\n",
       "    .dataframe tbody tr th {\n",
       "        vertical-align: top;\n",
       "    }\n",
       "\n",
       "    .dataframe thead th {\n",
       "        text-align: right;\n",
       "    }\n",
       "</style>\n",
       "<table border=\"1\" class=\"dataframe\">\n",
       "  <thead>\n",
       "    <tr style=\"text-align: right;\">\n",
       "      <th></th>\n",
       "      <th>Title</th>\n",
       "      <th>Intro Text</th>\n",
       "      <th>Authors</th>\n",
       "      <th>Article Text</th>\n",
       "      <th>Date Published</th>\n",
       "      <th>mood</th>\n",
       "      <th>sentiment</th>\n",
       "    </tr>\n",
       "  </thead>\n",
       "  <tbody>\n",
       "    <tr>\n",
       "      <th>21</th>\n",
       "      <td>Are debt-for-nature swaps the way forward for ...</td>\n",
       "      <td>Agreements to reduce developing countries’ deb...</td>\n",
       "      <td>['The age of extinction is supported by', 'Abo...</td>\n",
       "      <td>After decades in the wilderness, and familiar ...</td>\n",
       "      <td>2023-06-21</td>\n",
       "      <td>0.115471</td>\n",
       "      <td>positive</td>\n",
       "    </tr>\n",
       "    <tr>\n",
       "      <th>22</th>\n",
       "      <td>Climate protesters gather in person and onlin...</td>\n",
       "      <td>Campaigners target Standard Chartered, urging ...</td>\n",
       "      <td>['Robyn Vinter', '@robynvinter']</td>\n",
       "      <td>Climate protesters from as many as 60 countrie...</td>\n",
       "      <td>2018-03-09</td>\n",
       "      <td>0.061723</td>\n",
       "      <td>positive</td>\n",
       "    </tr>\n",
       "    <tr>\n",
       "      <th>23</th>\n",
       "      <td>There's a simple way to make our cities green...</td>\n",
       "      <td>Architecture’s top prize has been awarded to a...</td>\n",
       "      <td>NaN</td>\n",
       "      <td>This week the highest honour in the architectu...</td>\n",
       "      <td>2018-07-18</td>\n",
       "      <td>0.095566</td>\n",
       "      <td>positive</td>\n",
       "    </tr>\n",
       "    <tr>\n",
       "      <th>24</th>\n",
       "      <td>Can we enjoy fast fashion without destroying t...</td>\n",
       "      <td>The global fashion industry is in desperate ne...</td>\n",
       "      <td>['Lucy Siegle']</td>\n",
       "      <td>This piece first appeared in Down to Earth, th...</td>\n",
       "      <td>2022-02-25</td>\n",
       "      <td>0.100182</td>\n",
       "      <td>positive</td>\n",
       "    </tr>\n",
       "    <tr>\n",
       "      <th>25</th>\n",
       "      <td>Anti-logging protest becomes Canada’s biggest...</td>\n",
       "      <td>At least 866 arrested since April, as police c...</td>\n",
       "      <td>['Supported by', 'About this content', 'Jen Os...</td>\n",
       "      <td>A string of protests against old-growth loggin...</td>\n",
       "      <td>2021-09-10</td>\n",
       "      <td>-0.065854</td>\n",
       "      <td>negative</td>\n",
       "    </tr>\n",
       "  </tbody>\n",
       "</table>\n",
       "</div>"
      ],
      "text/plain": [
       "                                                Title  \\\n",
       "21  Are debt-for-nature swaps the way forward for ...   \n",
       "22   Climate protesters gather in person and onlin...   \n",
       "23   There's a simple way to make our cities green...   \n",
       "24  Can we enjoy fast fashion without destroying t...   \n",
       "25   Anti-logging protest becomes Canada’s biggest...   \n",
       "\n",
       "                                           Intro Text  \\\n",
       "21  Agreements to reduce developing countries’ deb...   \n",
       "22  Campaigners target Standard Chartered, urging ...   \n",
       "23  Architecture’s top prize has been awarded to a...   \n",
       "24  The global fashion industry is in desperate ne...   \n",
       "25  At least 866 arrested since April, as police c...   \n",
       "\n",
       "                                              Authors  \\\n",
       "21  ['The age of extinction is supported by', 'Abo...   \n",
       "22                   ['Robyn Vinter', '@robynvinter']   \n",
       "23                                                NaN   \n",
       "24                                    ['Lucy Siegle']   \n",
       "25  ['Supported by', 'About this content', 'Jen Os...   \n",
       "\n",
       "                                         Article Text Date Published  \\\n",
       "21  After decades in the wilderness, and familiar ...     2023-06-21   \n",
       "22  Climate protesters from as many as 60 countrie...     2018-03-09   \n",
       "23  This week the highest honour in the architectu...     2018-07-18   \n",
       "24  This piece first appeared in Down to Earth, th...     2022-02-25   \n",
       "25  A string of protests against old-growth loggin...     2021-09-10   \n",
       "\n",
       "        mood sentiment  \n",
       "21  0.115471  positive  \n",
       "22  0.061723  positive  \n",
       "23  0.095566  positive  \n",
       "24  0.100182  positive  \n",
       "25 -0.065854  negative  "
      ]
     },
     "execution_count": 53,
     "metadata": {},
     "output_type": "execute_result"
    }
   ],
   "source": [
    "df_rulebased.head()"
   ]
  },
  {
   "cell_type": "markdown",
   "id": "b4b6b462",
   "metadata": {},
   "source": [
    "## Задача 3.\n",
    "Выполните разметку вручную отдельного подмножества выбранного датасета с помощью выбранного вами инструмента разметки."
   ]
  },
  {
   "cell_type": "code",
   "execution_count": 40,
   "id": "9c60ed65",
   "metadata": {},
   "outputs": [
    {
     "data": {
      "text/html": [
       "<div>\n",
       "<style scoped>\n",
       "    .dataframe tbody tr th:only-of-type {\n",
       "        vertical-align: middle;\n",
       "    }\n",
       "\n",
       "    .dataframe tbody tr th {\n",
       "        vertical-align: top;\n",
       "    }\n",
       "\n",
       "    .dataframe thead th {\n",
       "        text-align: right;\n",
       "    }\n",
       "</style>\n",
       "<table border=\"1\" class=\"dataframe\">\n",
       "  <thead>\n",
       "    <tr style=\"text-align: right;\">\n",
       "      <th></th>\n",
       "      <th>Title</th>\n",
       "      <th>Intro Text</th>\n",
       "      <th>Authors</th>\n",
       "      <th>Article Text</th>\n",
       "      <th>Date Published</th>\n",
       "    </tr>\n",
       "  </thead>\n",
       "  <tbody>\n",
       "    <tr>\n",
       "      <th>0</th>\n",
       "      <td>Liz Truss ‘will approve more oil drilling if ...</td>\n",
       "      <td>Tory leadership candidate criticised by campai...</td>\n",
       "      <td>['Rob Davies', '@ByRobDavies']</td>\n",
       "      <td>Liz Truss will sign off on a push for more oil...</td>\n",
       "      <td>2022-08-30</td>\n",
       "    </tr>\n",
       "    <tr>\n",
       "      <th>1</th>\n",
       "      <td>Renewed Highland golf course plan has environm...</td>\n",
       "      <td>Scottish government rejected a new links at Co...</td>\n",
       "      <td>['Ewan Murray', '@mrewanmurray']</td>\n",
       "      <td>It is an area so tranquil that the notion of b...</td>\n",
       "      <td>2021-03-22</td>\n",
       "    </tr>\n",
       "    <tr>\n",
       "      <th>2</th>\n",
       "      <td>Visiting green spaces deters mental health dr...</td>\n",
       "      <td>Positive effects were stronger among those rep...</td>\n",
       "      <td>['Damien Gayle', '@damiengayle']</td>\n",
       "      <td>Visits to parks, community gardens and other u...</td>\n",
       "      <td>2023-01-17</td>\n",
       "    </tr>\n",
       "    <tr>\n",
       "      <th>3</th>\n",
       "      <td>Bought too much red cabbage? Turn it into a fe...</td>\n",
       "      <td>This fantastic vegan centrepiece makes full us...</td>\n",
       "      <td>['Tom Hunt']</td>\n",
       "      <td>I devised today’s nut roast for Oddbox, a veg ...</td>\n",
       "      <td>2023-12-22</td>\n",
       "    </tr>\n",
       "    <tr>\n",
       "      <th>4</th>\n",
       "      <td>‘This year has been very good’: readers’ UK bu...</td>\n",
       "      <td>Readers share their favourite sightings over t...</td>\n",
       "      <td>['Guardian readers']</td>\n",
       "      <td>‘Constant companions to our gardening’A peacoc...</td>\n",
       "      <td>2023-12-19</td>\n",
       "    </tr>\n",
       "  </tbody>\n",
       "</table>\n",
       "</div>"
      ],
      "text/plain": [
       "                                               Title  \\\n",
       "0   Liz Truss ‘will approve more oil drilling if ...   \n",
       "1  Renewed Highland golf course plan has environm...   \n",
       "2   Visiting green spaces deters mental health dr...   \n",
       "3  Bought too much red cabbage? Turn it into a fe...   \n",
       "4  ‘This year has been very good’: readers’ UK bu...   \n",
       "\n",
       "                                          Intro Text  \\\n",
       "0  Tory leadership candidate criticised by campai...   \n",
       "1  Scottish government rejected a new links at Co...   \n",
       "2  Positive effects were stronger among those rep...   \n",
       "3  This fantastic vegan centrepiece makes full us...   \n",
       "4  Readers share their favourite sightings over t...   \n",
       "\n",
       "                            Authors  \\\n",
       "0    ['Rob Davies', '@ByRobDavies']   \n",
       "1  ['Ewan Murray', '@mrewanmurray']   \n",
       "2  ['Damien Gayle', '@damiengayle']   \n",
       "3                      ['Tom Hunt']   \n",
       "4              ['Guardian readers']   \n",
       "\n",
       "                                        Article Text Date Published  \n",
       "0  Liz Truss will sign off on a push for more oil...     2022-08-30  \n",
       "1  It is an area so tranquil that the notion of b...     2021-03-22  \n",
       "2  Visits to parks, community gardens and other u...     2023-01-17  \n",
       "3  I devised today’s nut roast for Oddbox, a veg ...     2023-12-22  \n",
       "4  ‘Constant companions to our gardening’A peacoc...     2023-12-19  "
      ]
     },
     "execution_count": 40,
     "metadata": {},
     "output_type": "execute_result"
    }
   ],
   "source": [
    "df_manual.head()"
   ]
  },
  {
   "cell_type": "code",
   "execution_count": 41,
   "id": "5cb5776d",
   "metadata": {},
   "outputs": [],
   "source": [
    "df_manual_marked = pd.read_csv('first_20_rows_marked.csv')"
   ]
  },
  {
   "cell_type": "code",
   "execution_count": 42,
   "id": "c32e3a72",
   "metadata": {},
   "outputs": [
    {
     "data": {
      "text/html": [
       "<div>\n",
       "<style scoped>\n",
       "    .dataframe tbody tr th:only-of-type {\n",
       "        vertical-align: middle;\n",
       "    }\n",
       "\n",
       "    .dataframe tbody tr th {\n",
       "        vertical-align: top;\n",
       "    }\n",
       "\n",
       "    .dataframe thead th {\n",
       "        text-align: right;\n",
       "    }\n",
       "</style>\n",
       "<table border=\"1\" class=\"dataframe\">\n",
       "  <thead>\n",
       "    <tr style=\"text-align: right;\">\n",
       "      <th></th>\n",
       "      <th>Article Text</th>\n",
       "      <th>Authors</th>\n",
       "      <th>Date Published</th>\n",
       "      <th>Intro Text</th>\n",
       "      <th>Title</th>\n",
       "      <th>annotation_id</th>\n",
       "      <th>annotator</th>\n",
       "      <th>created_at</th>\n",
       "      <th>id</th>\n",
       "      <th>lead_time</th>\n",
       "      <th>sentiment</th>\n",
       "      <th>updated_at</th>\n",
       "    </tr>\n",
       "  </thead>\n",
       "  <tbody>\n",
       "    <tr>\n",
       "      <th>0</th>\n",
       "      <td>Liz Truss will sign off on a push for more oil...</td>\n",
       "      <td>['Rob Davies', '@ByRobDavies']</td>\n",
       "      <td>2022-08-30</td>\n",
       "      <td>Tory leadership candidate criticised by campai...</td>\n",
       "      <td>Liz Truss ‘will approve more oil drilling if ...</td>\n",
       "      <td>1</td>\n",
       "      <td>1</td>\n",
       "      <td>2024-02-23T14:35:01.566018Z</td>\n",
       "      <td>2</td>\n",
       "      <td>7.051</td>\n",
       "      <td>positive</td>\n",
       "      <td>2024-02-23T14:35:04.301517Z</td>\n",
       "    </tr>\n",
       "    <tr>\n",
       "      <th>1</th>\n",
       "      <td>It is an area so tranquil that the notion of b...</td>\n",
       "      <td>['Ewan Murray', '@mrewanmurray']</td>\n",
       "      <td>2021-03-22</td>\n",
       "      <td>Scottish government rejected a new links at Co...</td>\n",
       "      <td>Renewed Highland golf course plan has environm...</td>\n",
       "      <td>2</td>\n",
       "      <td>1</td>\n",
       "      <td>2024-02-23T14:35:19.797000Z</td>\n",
       "      <td>3</td>\n",
       "      <td>2.153</td>\n",
       "      <td>positive</td>\n",
       "      <td>2024-02-23T14:35:19.797000Z</td>\n",
       "    </tr>\n",
       "    <tr>\n",
       "      <th>2</th>\n",
       "      <td>Visits to parks, community gardens and other u...</td>\n",
       "      <td>['Damien Gayle', '@damiengayle']</td>\n",
       "      <td>2023-01-17</td>\n",
       "      <td>Positive effects were stronger among those rep...</td>\n",
       "      <td>Visiting green spaces deters mental health dr...</td>\n",
       "      <td>3</td>\n",
       "      <td>1</td>\n",
       "      <td>2024-02-23T14:35:31.203768Z</td>\n",
       "      <td>4</td>\n",
       "      <td>2.107</td>\n",
       "      <td>negative</td>\n",
       "      <td>2024-02-23T14:35:31.203768Z</td>\n",
       "    </tr>\n",
       "    <tr>\n",
       "      <th>3</th>\n",
       "      <td>I devised today’s nut roast for Oddbox, a veg ...</td>\n",
       "      <td>['Tom Hunt']</td>\n",
       "      <td>2023-12-22</td>\n",
       "      <td>This fantastic vegan centrepiece makes full us...</td>\n",
       "      <td>Bought too much red cabbage? Turn it into a fe...</td>\n",
       "      <td>4</td>\n",
       "      <td>1</td>\n",
       "      <td>2024-02-23T14:35:54.333312Z</td>\n",
       "      <td>5</td>\n",
       "      <td>2.252</td>\n",
       "      <td>neutral</td>\n",
       "      <td>2024-02-23T14:35:54.333312Z</td>\n",
       "    </tr>\n",
       "    <tr>\n",
       "      <th>4</th>\n",
       "      <td>‘Constant companions to our gardening’A peacoc...</td>\n",
       "      <td>['Guardian readers']</td>\n",
       "      <td>2023-12-19</td>\n",
       "      <td>Readers share their favourite sightings over t...</td>\n",
       "      <td>‘This year has been very good’: readers’ UK bu...</td>\n",
       "      <td>5</td>\n",
       "      <td>1</td>\n",
       "      <td>2024-02-23T14:36:04.955091Z</td>\n",
       "      <td>6</td>\n",
       "      <td>1.757</td>\n",
       "      <td>positive</td>\n",
       "      <td>2024-02-23T14:36:04.955091Z</td>\n",
       "    </tr>\n",
       "  </tbody>\n",
       "</table>\n",
       "</div>"
      ],
      "text/plain": [
       "                                        Article Text  \\\n",
       "0  Liz Truss will sign off on a push for more oil...   \n",
       "1  It is an area so tranquil that the notion of b...   \n",
       "2  Visits to parks, community gardens and other u...   \n",
       "3  I devised today’s nut roast for Oddbox, a veg ...   \n",
       "4  ‘Constant companions to our gardening’A peacoc...   \n",
       "\n",
       "                            Authors Date Published  \\\n",
       "0    ['Rob Davies', '@ByRobDavies']     2022-08-30   \n",
       "1  ['Ewan Murray', '@mrewanmurray']     2021-03-22   \n",
       "2  ['Damien Gayle', '@damiengayle']     2023-01-17   \n",
       "3                      ['Tom Hunt']     2023-12-22   \n",
       "4              ['Guardian readers']     2023-12-19   \n",
       "\n",
       "                                          Intro Text  \\\n",
       "0  Tory leadership candidate criticised by campai...   \n",
       "1  Scottish government rejected a new links at Co...   \n",
       "2  Positive effects were stronger among those rep...   \n",
       "3  This fantastic vegan centrepiece makes full us...   \n",
       "4  Readers share their favourite sightings over t...   \n",
       "\n",
       "                                               Title  annotation_id  \\\n",
       "0   Liz Truss ‘will approve more oil drilling if ...              1   \n",
       "1  Renewed Highland golf course plan has environm...              2   \n",
       "2   Visiting green spaces deters mental health dr...              3   \n",
       "3  Bought too much red cabbage? Turn it into a fe...              4   \n",
       "4  ‘This year has been very good’: readers’ UK bu...              5   \n",
       "\n",
       "   annotator                   created_at  id  lead_time sentiment  \\\n",
       "0          1  2024-02-23T14:35:01.566018Z   2      7.051  positive   \n",
       "1          1  2024-02-23T14:35:19.797000Z   3      2.153  positive   \n",
       "2          1  2024-02-23T14:35:31.203768Z   4      2.107  negative   \n",
       "3          1  2024-02-23T14:35:54.333312Z   5      2.252   neutral   \n",
       "4          1  2024-02-23T14:36:04.955091Z   6      1.757  positive   \n",
       "\n",
       "                    updated_at  \n",
       "0  2024-02-23T14:35:04.301517Z  \n",
       "1  2024-02-23T14:35:19.797000Z  \n",
       "2  2024-02-23T14:35:31.203768Z  \n",
       "3  2024-02-23T14:35:54.333312Z  \n",
       "4  2024-02-23T14:36:04.955091Z  "
      ]
     },
     "execution_count": 42,
     "metadata": {},
     "output_type": "execute_result"
    }
   ],
   "source": [
    "df_manual_marked.head()"
   ]
  },
  {
   "cell_type": "markdown",
   "id": "4f240d28",
   "metadata": {},
   "source": [
    "## Задача 4.\n",
    "Объедините данные, размеченные вручную, с данными, размеченными на основе правил. Объедините два подмножества размеченных данных в один набор данных, сохранив при этом соответствующую структуру и целостность."
   ]
  },
  {
   "cell_type": "code",
   "execution_count": 43,
   "id": "6c9da8c8",
   "metadata": {},
   "outputs": [],
   "source": [
    "drop_columns = ['annotation_id', 'annotator', 'created_at', 'id', 'lead_time', 'updated_at']\n",
    "df_manual_marked = df_manual_marked.drop(drop_columns, axis=1)"
   ]
  },
  {
   "cell_type": "code",
   "execution_count": 44,
   "id": "d1c6bf9e",
   "metadata": {},
   "outputs": [
    {
     "data": {
      "text/html": [
       "<div>\n",
       "<style scoped>\n",
       "    .dataframe tbody tr th:only-of-type {\n",
       "        vertical-align: middle;\n",
       "    }\n",
       "\n",
       "    .dataframe tbody tr th {\n",
       "        vertical-align: top;\n",
       "    }\n",
       "\n",
       "    .dataframe thead th {\n",
       "        text-align: right;\n",
       "    }\n",
       "</style>\n",
       "<table border=\"1\" class=\"dataframe\">\n",
       "  <thead>\n",
       "    <tr style=\"text-align: right;\">\n",
       "      <th></th>\n",
       "      <th>Article Text</th>\n",
       "      <th>Authors</th>\n",
       "      <th>Date Published</th>\n",
       "      <th>Intro Text</th>\n",
       "      <th>Title</th>\n",
       "      <th>sentiment</th>\n",
       "    </tr>\n",
       "  </thead>\n",
       "  <tbody>\n",
       "    <tr>\n",
       "      <th>0</th>\n",
       "      <td>Liz Truss will sign off on a push for more oil...</td>\n",
       "      <td>['Rob Davies', '@ByRobDavies']</td>\n",
       "      <td>2022-08-30</td>\n",
       "      <td>Tory leadership candidate criticised by campai...</td>\n",
       "      <td>Liz Truss ‘will approve more oil drilling if ...</td>\n",
       "      <td>positive</td>\n",
       "    </tr>\n",
       "    <tr>\n",
       "      <th>1</th>\n",
       "      <td>It is an area so tranquil that the notion of b...</td>\n",
       "      <td>['Ewan Murray', '@mrewanmurray']</td>\n",
       "      <td>2021-03-22</td>\n",
       "      <td>Scottish government rejected a new links at Co...</td>\n",
       "      <td>Renewed Highland golf course plan has environm...</td>\n",
       "      <td>positive</td>\n",
       "    </tr>\n",
       "    <tr>\n",
       "      <th>2</th>\n",
       "      <td>Visits to parks, community gardens and other u...</td>\n",
       "      <td>['Damien Gayle', '@damiengayle']</td>\n",
       "      <td>2023-01-17</td>\n",
       "      <td>Positive effects were stronger among those rep...</td>\n",
       "      <td>Visiting green spaces deters mental health dr...</td>\n",
       "      <td>negative</td>\n",
       "    </tr>\n",
       "    <tr>\n",
       "      <th>3</th>\n",
       "      <td>I devised today’s nut roast for Oddbox, a veg ...</td>\n",
       "      <td>['Tom Hunt']</td>\n",
       "      <td>2023-12-22</td>\n",
       "      <td>This fantastic vegan centrepiece makes full us...</td>\n",
       "      <td>Bought too much red cabbage? Turn it into a fe...</td>\n",
       "      <td>neutral</td>\n",
       "    </tr>\n",
       "    <tr>\n",
       "      <th>4</th>\n",
       "      <td>‘Constant companions to our gardening’A peacoc...</td>\n",
       "      <td>['Guardian readers']</td>\n",
       "      <td>2023-12-19</td>\n",
       "      <td>Readers share their favourite sightings over t...</td>\n",
       "      <td>‘This year has been very good’: readers’ UK bu...</td>\n",
       "      <td>positive</td>\n",
       "    </tr>\n",
       "  </tbody>\n",
       "</table>\n",
       "</div>"
      ],
      "text/plain": [
       "                                        Article Text  \\\n",
       "0  Liz Truss will sign off on a push for more oil...   \n",
       "1  It is an area so tranquil that the notion of b...   \n",
       "2  Visits to parks, community gardens and other u...   \n",
       "3  I devised today’s nut roast for Oddbox, a veg ...   \n",
       "4  ‘Constant companions to our gardening’A peacoc...   \n",
       "\n",
       "                            Authors Date Published  \\\n",
       "0    ['Rob Davies', '@ByRobDavies']     2022-08-30   \n",
       "1  ['Ewan Murray', '@mrewanmurray']     2021-03-22   \n",
       "2  ['Damien Gayle', '@damiengayle']     2023-01-17   \n",
       "3                      ['Tom Hunt']     2023-12-22   \n",
       "4              ['Guardian readers']     2023-12-19   \n",
       "\n",
       "                                          Intro Text  \\\n",
       "0  Tory leadership candidate criticised by campai...   \n",
       "1  Scottish government rejected a new links at Co...   \n",
       "2  Positive effects were stronger among those rep...   \n",
       "3  This fantastic vegan centrepiece makes full us...   \n",
       "4  Readers share their favourite sightings over t...   \n",
       "\n",
       "                                               Title sentiment  \n",
       "0   Liz Truss ‘will approve more oil drilling if ...  positive  \n",
       "1  Renewed Highland golf course plan has environm...  positive  \n",
       "2   Visiting green spaces deters mental health dr...  negative  \n",
       "3  Bought too much red cabbage? Turn it into a fe...   neutral  \n",
       "4  ‘This year has been very good’: readers’ UK bu...  positive  "
      ]
     },
     "execution_count": 44,
     "metadata": {},
     "output_type": "execute_result"
    }
   ],
   "source": [
    "df_manual_marked.head()"
   ]
  },
  {
   "cell_type": "code",
   "execution_count": 54,
   "id": "4e4b06be",
   "metadata": {},
   "outputs": [],
   "source": [
    "df_rulebased = df_rulebased.drop('mood', axis=1)"
   ]
  },
  {
   "cell_type": "code",
   "execution_count": 55,
   "id": "0c35159a",
   "metadata": {},
   "outputs": [
    {
     "data": {
      "text/html": [
       "<div>\n",
       "<style scoped>\n",
       "    .dataframe tbody tr th:only-of-type {\n",
       "        vertical-align: middle;\n",
       "    }\n",
       "\n",
       "    .dataframe tbody tr th {\n",
       "        vertical-align: top;\n",
       "    }\n",
       "\n",
       "    .dataframe thead th {\n",
       "        text-align: right;\n",
       "    }\n",
       "</style>\n",
       "<table border=\"1\" class=\"dataframe\">\n",
       "  <thead>\n",
       "    <tr style=\"text-align: right;\">\n",
       "      <th></th>\n",
       "      <th>Title</th>\n",
       "      <th>Intro Text</th>\n",
       "      <th>Authors</th>\n",
       "      <th>Article Text</th>\n",
       "      <th>Date Published</th>\n",
       "      <th>sentiment</th>\n",
       "    </tr>\n",
       "  </thead>\n",
       "  <tbody>\n",
       "    <tr>\n",
       "      <th>21</th>\n",
       "      <td>Are debt-for-nature swaps the way forward for ...</td>\n",
       "      <td>Agreements to reduce developing countries’ deb...</td>\n",
       "      <td>['The age of extinction is supported by', 'Abo...</td>\n",
       "      <td>After decades in the wilderness, and familiar ...</td>\n",
       "      <td>2023-06-21</td>\n",
       "      <td>positive</td>\n",
       "    </tr>\n",
       "    <tr>\n",
       "      <th>22</th>\n",
       "      <td>Climate protesters gather in person and onlin...</td>\n",
       "      <td>Campaigners target Standard Chartered, urging ...</td>\n",
       "      <td>['Robyn Vinter', '@robynvinter']</td>\n",
       "      <td>Climate protesters from as many as 60 countrie...</td>\n",
       "      <td>2018-03-09</td>\n",
       "      <td>positive</td>\n",
       "    </tr>\n",
       "    <tr>\n",
       "      <th>23</th>\n",
       "      <td>There's a simple way to make our cities green...</td>\n",
       "      <td>Architecture’s top prize has been awarded to a...</td>\n",
       "      <td>NaN</td>\n",
       "      <td>This week the highest honour in the architectu...</td>\n",
       "      <td>2018-07-18</td>\n",
       "      <td>positive</td>\n",
       "    </tr>\n",
       "    <tr>\n",
       "      <th>24</th>\n",
       "      <td>Can we enjoy fast fashion without destroying t...</td>\n",
       "      <td>The global fashion industry is in desperate ne...</td>\n",
       "      <td>['Lucy Siegle']</td>\n",
       "      <td>This piece first appeared in Down to Earth, th...</td>\n",
       "      <td>2022-02-25</td>\n",
       "      <td>positive</td>\n",
       "    </tr>\n",
       "    <tr>\n",
       "      <th>25</th>\n",
       "      <td>Anti-logging protest becomes Canada’s biggest...</td>\n",
       "      <td>At least 866 arrested since April, as police c...</td>\n",
       "      <td>['Supported by', 'About this content', 'Jen Os...</td>\n",
       "      <td>A string of protests against old-growth loggin...</td>\n",
       "      <td>2021-09-10</td>\n",
       "      <td>negative</td>\n",
       "    </tr>\n",
       "  </tbody>\n",
       "</table>\n",
       "</div>"
      ],
      "text/plain": [
       "                                                Title  \\\n",
       "21  Are debt-for-nature swaps the way forward for ...   \n",
       "22   Climate protesters gather in person and onlin...   \n",
       "23   There's a simple way to make our cities green...   \n",
       "24  Can we enjoy fast fashion without destroying t...   \n",
       "25   Anti-logging protest becomes Canada’s biggest...   \n",
       "\n",
       "                                           Intro Text  \\\n",
       "21  Agreements to reduce developing countries’ deb...   \n",
       "22  Campaigners target Standard Chartered, urging ...   \n",
       "23  Architecture’s top prize has been awarded to a...   \n",
       "24  The global fashion industry is in desperate ne...   \n",
       "25  At least 866 arrested since April, as police c...   \n",
       "\n",
       "                                              Authors  \\\n",
       "21  ['The age of extinction is supported by', 'Abo...   \n",
       "22                   ['Robyn Vinter', '@robynvinter']   \n",
       "23                                                NaN   \n",
       "24                                    ['Lucy Siegle']   \n",
       "25  ['Supported by', 'About this content', 'Jen Os...   \n",
       "\n",
       "                                         Article Text Date Published sentiment  \n",
       "21  After decades in the wilderness, and familiar ...     2023-06-21  positive  \n",
       "22  Climate protesters from as many as 60 countrie...     2018-03-09  positive  \n",
       "23  This week the highest honour in the architectu...     2018-07-18  positive  \n",
       "24  This piece first appeared in Down to Earth, th...     2022-02-25  positive  \n",
       "25  A string of protests against old-growth loggin...     2021-09-10  negative  "
      ]
     },
     "execution_count": 55,
     "metadata": {},
     "output_type": "execute_result"
    }
   ],
   "source": [
    "df_rulebased.head()"
   ]
  },
  {
   "cell_type": "code",
   "execution_count": 79,
   "id": "9bb0e632",
   "metadata": {},
   "outputs": [],
   "source": [
    "df_merged = pd.concat([df_manual_marked, df_rulebased])"
   ]
  },
  {
   "cell_type": "code",
   "execution_count": 57,
   "id": "4d30a8ab",
   "metadata": {},
   "outputs": [
    {
     "data": {
      "text/html": [
       "<div>\n",
       "<style scoped>\n",
       "    .dataframe tbody tr th:only-of-type {\n",
       "        vertical-align: middle;\n",
       "    }\n",
       "\n",
       "    .dataframe tbody tr th {\n",
       "        vertical-align: top;\n",
       "    }\n",
       "\n",
       "    .dataframe thead th {\n",
       "        text-align: right;\n",
       "    }\n",
       "</style>\n",
       "<table border=\"1\" class=\"dataframe\">\n",
       "  <thead>\n",
       "    <tr style=\"text-align: right;\">\n",
       "      <th></th>\n",
       "      <th>Article Text</th>\n",
       "      <th>Authors</th>\n",
       "      <th>Date Published</th>\n",
       "      <th>Intro Text</th>\n",
       "      <th>Title</th>\n",
       "      <th>sentiment</th>\n",
       "    </tr>\n",
       "  </thead>\n",
       "  <tbody>\n",
       "    <tr>\n",
       "      <th>0</th>\n",
       "      <td>Liz Truss will sign off on a push for more oil...</td>\n",
       "      <td>['Rob Davies', '@ByRobDavies']</td>\n",
       "      <td>2022-08-30</td>\n",
       "      <td>Tory leadership candidate criticised by campai...</td>\n",
       "      <td>Liz Truss ‘will approve more oil drilling if ...</td>\n",
       "      <td>positive</td>\n",
       "    </tr>\n",
       "    <tr>\n",
       "      <th>1</th>\n",
       "      <td>It is an area so tranquil that the notion of b...</td>\n",
       "      <td>['Ewan Murray', '@mrewanmurray']</td>\n",
       "      <td>2021-03-22</td>\n",
       "      <td>Scottish government rejected a new links at Co...</td>\n",
       "      <td>Renewed Highland golf course plan has environm...</td>\n",
       "      <td>positive</td>\n",
       "    </tr>\n",
       "    <tr>\n",
       "      <th>2</th>\n",
       "      <td>Visits to parks, community gardens and other u...</td>\n",
       "      <td>['Damien Gayle', '@damiengayle']</td>\n",
       "      <td>2023-01-17</td>\n",
       "      <td>Positive effects were stronger among those rep...</td>\n",
       "      <td>Visiting green spaces deters mental health dr...</td>\n",
       "      <td>negative</td>\n",
       "    </tr>\n",
       "    <tr>\n",
       "      <th>3</th>\n",
       "      <td>I devised today’s nut roast for Oddbox, a veg ...</td>\n",
       "      <td>['Tom Hunt']</td>\n",
       "      <td>2023-12-22</td>\n",
       "      <td>This fantastic vegan centrepiece makes full us...</td>\n",
       "      <td>Bought too much red cabbage? Turn it into a fe...</td>\n",
       "      <td>neutral</td>\n",
       "    </tr>\n",
       "    <tr>\n",
       "      <th>4</th>\n",
       "      <td>‘Constant companions to our gardening’A peacoc...</td>\n",
       "      <td>['Guardian readers']</td>\n",
       "      <td>2023-12-19</td>\n",
       "      <td>Readers share their favourite sightings over t...</td>\n",
       "      <td>‘This year has been very good’: readers’ UK bu...</td>\n",
       "      <td>positive</td>\n",
       "    </tr>\n",
       "  </tbody>\n",
       "</table>\n",
       "</div>"
      ],
      "text/plain": [
       "                                        Article Text  \\\n",
       "0  Liz Truss will sign off on a push for more oil...   \n",
       "1  It is an area so tranquil that the notion of b...   \n",
       "2  Visits to parks, community gardens and other u...   \n",
       "3  I devised today’s nut roast for Oddbox, a veg ...   \n",
       "4  ‘Constant companions to our gardening’A peacoc...   \n",
       "\n",
       "                            Authors Date Published  \\\n",
       "0    ['Rob Davies', '@ByRobDavies']     2022-08-30   \n",
       "1  ['Ewan Murray', '@mrewanmurray']     2021-03-22   \n",
       "2  ['Damien Gayle', '@damiengayle']     2023-01-17   \n",
       "3                      ['Tom Hunt']     2023-12-22   \n",
       "4              ['Guardian readers']     2023-12-19   \n",
       "\n",
       "                                          Intro Text  \\\n",
       "0  Tory leadership candidate criticised by campai...   \n",
       "1  Scottish government rejected a new links at Co...   \n",
       "2  Positive effects were stronger among those rep...   \n",
       "3  This fantastic vegan centrepiece makes full us...   \n",
       "4  Readers share their favourite sightings over t...   \n",
       "\n",
       "                                               Title sentiment  \n",
       "0   Liz Truss ‘will approve more oil drilling if ...  positive  \n",
       "1  Renewed Highland golf course plan has environm...  positive  \n",
       "2   Visiting green spaces deters mental health dr...  negative  \n",
       "3  Bought too much red cabbage? Turn it into a fe...   neutral  \n",
       "4  ‘This year has been very good’: readers’ UK bu...  positive  "
      ]
     },
     "execution_count": 57,
     "metadata": {},
     "output_type": "execute_result"
    }
   ],
   "source": [
    "df_merged.head()"
   ]
  },
  {
   "cell_type": "markdown",
   "id": "2c251532",
   "metadata": {},
   "source": [
    "## Задача 5.\n",
    "Обучите модель машинного обучения, используя объединенный набор размеченных данных. Разделите датасет на обучающий и тестовый наборы и используйте обучающий набор для обучения модели."
   ]
  },
  {
   "cell_type": "code",
   "execution_count": 58,
   "id": "55bac7da",
   "metadata": {},
   "outputs": [],
   "source": [
    "from sklearn.feature_extraction.text import TfidfVectorizer\n",
    "from sklearn.linear_model import LogisticRegression\n",
    "from sklearn.model_selection import train_test_split\n",
    "from sklearn.metrics import f1_score\n",
    "from sklearn.utils import shuffle"
   ]
  },
  {
   "cell_type": "code",
   "execution_count": 82,
   "id": "cf4d5042",
   "metadata": {},
   "outputs": [],
   "source": [
    "df_merged['sentiment'] = df_merged['sentiment'].replace({'negative': 0, 'neutral': 0, 'positive': 1})"
   ]
  },
  {
   "cell_type": "code",
   "execution_count": 83,
   "id": "4a7bf4e9",
   "metadata": {},
   "outputs": [
    {
     "data": {
      "text/plain": [
       "<AxesSubplot:>"
      ]
     },
     "execution_count": 83,
     "metadata": {},
     "output_type": "execute_result"
    },
    {
     "data": {
      "image/png": "[encoded data removed]",
      "text/plain": [
       "<Figure size 640x480 with 1 Axes>"
      ]
     },
     "metadata": {},
     "output_type": "display_data"
    }
   ],
   "source": [
    "df_merged['sentiment'].hist()"
   ]
  },
  {
   "cell_type": "code",
   "execution_count": 84,
   "id": "64dcd42b",
   "metadata": {},
   "outputs": [],
   "source": [
    "df_merged = shuffle(df_merged)"
   ]
  },
  {
   "cell_type": "code",
   "execution_count": 85,
   "id": "9005dd72",
   "metadata": {},
   "outputs": [],
   "source": [
    "labeled_reviews, unlabeled_reviews = train_test_split(df_merged, train_size=0.2, random_state=42)"
   ]
  },
  {
   "cell_type": "code",
   "execution_count": 86,
   "id": "7bf58918",
   "metadata": {},
   "outputs": [],
   "source": [
    "def train_model(labeled_reviews):\n",
    "    vectorizer = TfidfVectorizer()\n",
    "    X = vectorizer.fit_transform(labeled_reviews['Article Text'])\n",
    "    y = labeled_reviews['sentiment']\n",
    "\n",
    "    model = LogisticRegression()\n",
    "    model.fit(X, y)\n",
    "\n",
    "    return model, vectorizer"
   ]
  },
  {
   "cell_type": "code",
   "execution_count": 87,
   "id": "108e722b",
   "metadata": {},
   "outputs": [],
   "source": [
    "model, vectorizer = train_model(labeled_reviews)"
   ]
  },
  {
   "cell_type": "code",
   "execution_count": 88,
   "id": "6934d82d",
   "metadata": {},
   "outputs": [],
   "source": [
    "X_unlabeled = vectorizer.transform(unlabeled_reviews['Article Text'])\n",
    "y_unlabeled_predicted = model.predict(X_unlabeled)"
   ]
  },
  {
   "cell_type": "code",
   "execution_count": 89,
   "id": "a5e42f41",
   "metadata": {},
   "outputs": [],
   "source": [
    "y_unlabeled_proba = model.predict_proba(X_unlabeled)\n",
    "uncertainty = -(y_unlabeled_proba * np.log2(y_unlabeled_proba)).sum(axis=1)"
   ]
  },
  {
   "cell_type": "code",
   "execution_count": 90,
   "id": "33ac7c7c",
   "metadata": {},
   "outputs": [],
   "source": [
    "labeled_reviews_new = unlabeled_reviews.iloc[uncertainty.argsort()[:100]]\n",
    "unlabeled_reviews_new = unlabeled_reviews.iloc[uncertainty.argsort()[100:]]"
   ]
  },
  {
   "cell_type": "code",
   "execution_count": 91,
   "id": "34e04315",
   "metadata": {},
   "outputs": [],
   "source": [
    "labeled_reviews = pd.concat([labeled_reviews, labeled_reviews_new])"
   ]
  },
  {
   "cell_type": "code",
   "execution_count": 92,
   "id": "ed90dfc3",
   "metadata": {},
   "outputs": [],
   "source": [
    "model, vectorizer = train_model(labeled_reviews)"
   ]
  },
  {
   "cell_type": "markdown",
   "id": "69a0a2b1",
   "metadata": {},
   "source": [
    "## Задача 6.\n",
    "Оценить эффективность обученной модели на тестовом датасете. Используйте подходящие метрики оценки. Интерпретируйте результаты и проанализируйте эффективность модели в решении задачи разметки."
   ]
  },
  {
   "cell_type": "code",
   "execution_count": 97,
   "id": "27f000cc",
   "metadata": {},
   "outputs": [],
   "source": [
    "df_manual_marked['sentiment'] = df_manual_marked['sentiment'].replace({'negative': 0, 'neutral': 0, 'positive': 1})"
   ]
  },
  {
   "cell_type": "code",
   "execution_count": 98,
   "id": "d18b03a6",
   "metadata": {},
   "outputs": [
    {
     "name": "stdout",
     "output_type": "stream",
     "text": [
      "0.67\n"
     ]
    }
   ],
   "source": [
    "X_test = vectorizer.transform(df_manual_marked['Article Text'])\n",
    "y_test_predicted = model.predict(X_test)\n",
    "f1 = f1_score(df_manual_marked['sentiment'], y_test_predicted)\n",
    "\n",
    "print(f1)"
   ]
  },
  {
   "cell_type": "markdown",
   "id": "d28b39a9",
   "metadata": {},
   "source": [
    "0.67 F1-score - не высокий результат."
   ]
  },
  {
   "cell_type": "code",
   "execution_count": null,
   "id": "83feb752",
   "metadata": {},
   "outputs": [],
   "source": []
  }
 ],
 "metadata": {
  "kernelspec": {
   "display_name": "Python 3 (ipykernel)",
   "language": "python",
   "name": "python3"
  },
  "language_info": {
   "codemirror_mode": {
    "name": "ipython",
    "version": 3
   },
   "file_extension": ".py",
   "mimetype": "text/x-python",
   "name": "python",
   "nbconvert_exporter": "python",
   "pygments_lexer": "ipython3",
   "version": "3.9.13"
  }
 },
 "nbformat": 4,
 "nbformat_minor": 5
}
